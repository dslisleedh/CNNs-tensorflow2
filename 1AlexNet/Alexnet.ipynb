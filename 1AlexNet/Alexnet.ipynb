{
 "cells": [
  {
   "cell_type": "code",
   "execution_count": 1,
   "id": "80c287ed-1027-4b0c-ab36-e41be70c4b0a",
   "metadata": {},
   "outputs": [],
   "source": [
    "import tensorflow as tf"
   ]
  },
  {
   "cell_type": "code",
   "execution_count": 39,
   "id": "5b96ea7d-ea94-449b-8f96-7bdd3e8d866c",
   "metadata": {},
   "outputs": [],
   "source": [
    "class Convoluion_layer(tf.keras.layers.Layer):\n",
    "    def __init__(self,conv_filter:int, conv_kernel_shape, \n",
    "                 conv_strides:int, \n",
    "                 padding:int, \n",
    "                 pool:bool, \n",
    "                 lrn:bool, \n",
    "                 pool_kernel = (3,3), \n",
    "                 pool_strides = 2):\n",
    "        super(Convoluion_layer, self).__init__()\n",
    "        self.conv_filter = conv_filter\n",
    "        self.conv_kernel_shape = conv_kernel_shape\n",
    "        self.conv_strides = conv_strides\n",
    "        self.lrn = lrn\n",
    "        self.pool = pool\n",
    "        self.pool_kernel = pool_kernel\n",
    "        self.pool_strides = pool_strides\n",
    "        self.padding = padding\n",
    "        \n",
    "        if self.padding != 0:\n",
    "            self.Pad = tf.keras.layers.ZeroPadding2D((self.padding, self.padding))\n",
    "        self.Conv = tf.keras.layers.Conv2D(filters = self.conv_filter, \n",
    "                                           kernel_size = self.conv_kernel_shape, \n",
    "                                           activation = 'relu', \n",
    "                                           strides = (self.conv_strides, self.conv_strides), \n",
    "                                           padding = 'valid')\n",
    "        if self.pool:\n",
    "            self.MaxPool = tf.keras.layers.MaxPool2D(pool_size = self.pool_kernel, \n",
    "                                                     strides = self.pool_strides)\n",
    "        \n",
    "    def call(self, X):\n",
    "        if self.padding != 0:\n",
    "            X = self.Pad(X)\n",
    "        y = self.Conv(X)\n",
    "        if self.pool:\n",
    "            y = self.MaxPool(y)\n",
    "        if self.lrn:\n",
    "            y = tf.nn.local_response_normalization(y, alpha = 1e-4, beta = .75,\n",
    "                                                  depth_radius = 2, bias = 2.)\n",
    "        return y"
   ]
  },
  {
   "cell_type": "code",
   "execution_count": 40,
   "id": "22cbba71-4b09-4e48-860a-35252da2fbaf",
   "metadata": {},
   "outputs": [],
   "source": [
    "class Alexnet(tf.keras.models.Model):\n",
    "    def __init__(self, last_activation:str, n_labels):\n",
    "        super(Alexnet, self).__init__()\n",
    "        self.last_activation = last_activation\n",
    "        self.n_labels = n_labels\n",
    "        \n",
    "        self.Conv = tf.keras.Sequential([\n",
    "            Convoluion_layer(96, (11,11), 4, 0, True, True),\n",
    "            Convoluion_layer(256, (5,5), 1, 2, True, True),\n",
    "            Convoluion_layer(384, (3,3), 1, 1, False, False),\n",
    "            Convoluion_layer(384, (3,3), 1, 1, False, False),\n",
    "            Convoluion_layer(256, (3,3), 1, 1, True, False)\n",
    "        ])\n",
    "        \n",
    "        self.FC = tf.keras.Sequential([\n",
    "            tf.keras.layers.Flatten(),\n",
    "            tf.keras.layers.Dense(4096, activation = 'relu'),\n",
    "            tf.keras.layers.Dropout(.5),\n",
    "            tf.keras.layers.Dense(4096, activation = 'relu'),\n",
    "            tf.keras.layers.Dropout(.5),\n",
    "            tf.keras.layers.Dense(self.n_labels, activation = self.last_activation)\n",
    "        ])\n",
    "        \n",
    "    def call(self, X):\n",
    "        y = self.Conv(X)\n",
    "        y = self.FC(y)\n",
    "        return y"
   ]
  },
  {
   "cell_type": "code",
   "execution_count": 41,
   "id": "a7ef5491-e12b-40d4-b296-59eb08096c66",
   "metadata": {},
   "outputs": [],
   "source": [
    "a = Alexnet('softmax', 10)"
   ]
  },
  {
   "cell_type": "code",
   "execution_count": 42,
   "id": "8dab663b-9f86-4fce-80a7-d4dda28b6ddd",
   "metadata": {},
   "outputs": [],
   "source": [
    "a.build(input_shape = (16, 227,227,3))"
   ]
  },
  {
   "cell_type": "code",
   "execution_count": 43,
   "id": "6d2ef269-2ee5-430b-b1b7-74e2e5e3a2b4",
   "metadata": {},
   "outputs": [
    {
     "name": "stdout",
     "output_type": "stream",
     "text": [
      "Model: \"alexnet_8\"\n",
      "_________________________________________________________________\n",
      "Layer (type)                 Output Shape              Param #   \n",
      "=================================================================\n",
      "sequential_6 (Sequential)    (16, 6, 6, 256)           3747200   \n",
      "_________________________________________________________________\n",
      "sequential_7 (Sequential)    (16, 10)                  54575114  \n",
      "=================================================================\n",
      "Total params: 58,322,314\n",
      "Trainable params: 58,322,314\n",
      "Non-trainable params: 0\n",
      "_________________________________________________________________\n"
     ]
    }
   ],
   "source": [
    "a.summary()"
   ]
  },
  {
   "cell_type": "code",
   "execution_count": null,
   "id": "8d9df417-dfcc-4251-8a42-6b9cedb63818",
   "metadata": {},
   "outputs": [],
   "source": []
  }
 ],
 "metadata": {
  "kernelspec": {
   "display_name": "Python 3",
   "language": "python",
   "name": "python3"
  },
  "language_info": {
   "codemirror_mode": {
    "name": "ipython",
    "version": 3
   },
   "file_extension": ".py",
   "mimetype": "text/x-python",
   "name": "python",
   "nbconvert_exporter": "python",
   "pygments_lexer": "ipython3",
   "version": "3.8.8"
  }
 },
 "nbformat": 4,
 "nbformat_minor": 5
}
