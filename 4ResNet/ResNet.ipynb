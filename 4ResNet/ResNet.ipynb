{
 "cells": [
  {
   "cell_type": "code",
   "execution_count": 1,
   "id": "cce568b8-ae00-4ad0-86e8-ede76c307e11",
   "metadata": {},
   "outputs": [],
   "source": [
    "import tensorflow as tf"
   ]
  },
  {
   "cell_type": "code",
   "execution_count": 2,
   "id": "363724ed-102a-4a00-bc1e-bec7b5fbc620",
   "metadata": {},
   "outputs": [],
   "source": [
    "class Identity_Block(tf.keras.layers.Layer):\n",
    "    def __init__(self, n_filters):\n",
    "        super(Identity_Block, self).__init__()\n",
    "        self.n_filters = n_filters\n",
    "        self.kernel_size = [(1,1),(3,3),(1,1)] if len(self.n_filters) == 3 else [(3,3),(3,3)]\n",
    "        \n",
    "        self.Residual = tf.keras.Sequential([])\n",
    "        for i in range(len(n_filters)):\n",
    "            self.Residual.add(tf.keras.layers.Conv2D(filters = self.n_filters[i],\n",
    "                                                     kernel_size = self.kernel_size[i],\n",
    "                                                     use_bias = False,\n",
    "                                                     padding = 'same'\n",
    "                                                    )\n",
    "                             )\n",
    "            self.Residual.add(tf.keras.layers.BatchNormalization())\n",
    "            self.Residual.add(tf.keras.layers.ReLU())\n",
    "        \n",
    "    def call(self, X):\n",
    "        y = self.Residual(X) + X\n",
    "        y = tf.nn.relu(y)\n",
    "        return y\n",
    "        \n",
    "        \n",
    "class Convolutional_Block(tf.keras.layers.Layer):\n",
    "    def __init__(self, n_filters, downsampling):\n",
    "        super(Convolutional_Block, self).__init__()\n",
    "        self.n_filters = n_filters\n",
    "        self.downsampling = downsampling\n",
    "        self.kernel_size = [(1,1),(3,3),(1,1)] if len(self.n_filters) == 3 else [(3,3),(3,3)]\n",
    "        \n",
    "        self.Residual = tf.keras.Sequential([])\n",
    "        for i in range(len(self.n_filters)):\n",
    "            self.Residual.add(tf.keras.layers.Conv2D(filters = self.n_filters[i],\n",
    "                                                     kernel_size  = self.kernel_size[i],\n",
    "                                                     strides = (2,2) if (i == 0)&(self.downsampling) else (1,1),\n",
    "                                                     padding = 'valid' if (i == 0)&(self.downsampling) else 'same',\n",
    "                                                     use_bias = False\n",
    "                                                    ))\n",
    "            self.Residual.add(tf.keras.layers.BatchNormalization())\n",
    "            self.Residual.add(tf.keras.layers.ReLU())\n",
    "            \n",
    "        self.linear_projection = tf.keras.Sequential([\n",
    "            tf.keras.layers.Conv2D(filters = self.n_filters[2],\n",
    "                                   kernel_size = (1,1),\n",
    "                                   strides = (2,2) if self.downsampling else (1,1),\n",
    "                                   padding = 'valid',\n",
    "                                   use_bias = False\n",
    "                                  ),\n",
    "            tf.keras.layers.BatchNormalization()\n",
    "        ])\n",
    "        \n",
    "    def call(self, X):\n",
    "        y = self.Residual(X) + self.linear_projection(X)\n",
    "        y = tf.nn.relu(y)\n",
    "        return y\n",
    "    \n",
    "        \n",
    "class Stage(tf.keras.layers.Layer):\n",
    "    def __init__(self, n_filters, n_layers:int, downsampling):\n",
    "        super(Stage, self).__init__()\n",
    "        self.downsampling = downsampling\n",
    "        self.n_filters = n_filters\n",
    "        self.n_layers = n_layers\n",
    "        \n",
    "        self.Blocks = tf.keras.Sequential([\n",
    "            Convolutional_Block(self.n_filters, downsampling) if (self.n_filters[0] != self.n_filters[-1])|(self.downsampling) else Identity_Block(self.n_filters)\n",
    "        ] + [\n",
    "            Identity_Block(self.n_filters) for _ in range(1, self.n_layers - 1)\n",
    "        ])\n",
    "               \n",
    "    def call(self, X):\n",
    "        y = self.Blocks(X)\n",
    "        return y"
   ]
  },
  {
   "cell_type": "code",
   "execution_count": 3,
   "id": "09629002-131f-44a6-8b67-ded8cfd07f56",
   "metadata": {},
   "outputs": [],
   "source": [
    "class ResNet(tf.keras.models.Model):\n",
    "    def __init__(self, n_filters, n_layers, n_labels:int, last_activation:str):\n",
    "        super(ResNet, self).__init__()\n",
    "        self.n_filters = n_filters\n",
    "        self.n_layers = n_layers\n",
    "        self.n_labels = n_labels\n",
    "        self.last_activation = last_activation\n",
    "        \n",
    "        self.Conv1 = tf.keras.layers.Conv2D(filters = 64,\n",
    "                                            kernel_size = (7,7),\n",
    "                                            strides = 2,\n",
    "                                            padding = 'same',\n",
    "                                            use_bias = False\n",
    "                                           )\n",
    "        self.BN1 = tf.keras.layers.BatchNormalization()\n",
    "        self.MP1 = tf.keras.layers.MaxPool2D(pool_size = (3,3),\n",
    "                                             strides = (2,2),\n",
    "                                             padding = 'same'\n",
    "                                            )\n",
    "        self.Stages = tf.keras.Sequential([\n",
    "            Stage([x * (2 ** i) for x in self.n_filters], self.n_layers[i], False if i == 0 else True) for i in range(4)\n",
    "        ])\n",
    "        self.Classifier = tf.keras.Sequential([\n",
    "            tf.keras.layers.GlobalAveragePooling2D(), # No dropout in resnet\n",
    "            tf.keras.layers.Dense(self.n_labels, activation = self.last_activation)\n",
    "        ])\n",
    "        \n",
    "    def call(self, X):\n",
    "        y = self.Conv1(X)\n",
    "        y = self.BN1(y)\n",
    "        y = tf.nn.relu(y)\n",
    "        \n",
    "        y = self.MP1(y)\n",
    "        y = self.Stages(y)\n",
    "        \n",
    "        y = self.Classifier(y)\n",
    "        return y"
   ]
  },
  {
   "cell_type": "code",
   "execution_count": 4,
   "id": "17dcff1d-a533-4bdb-bdd8-c0a979f16a1f",
   "metadata": {},
   "outputs": [],
   "source": [
    "resnet = ResNet([64,64,256], [3,4,6,3], 1000, 'softmax')"
   ]
  },
  {
   "cell_type": "code",
   "execution_count": 5,
   "id": "26aa9b5b-5371-46ff-8d7f-5fe9b8c1f251",
   "metadata": {},
   "outputs": [],
   "source": [
    "resnet.build([16,224,224,3])"
   ]
  },
  {
   "cell_type": "code",
   "execution_count": 6,
   "id": "f6dc63bc-e905-42e3-b830-1c9341d46e2d",
   "metadata": {},
   "outputs": [
    {
     "name": "stdout",
     "output_type": "stream",
     "text": [
      "Model: \"res_net\"\n",
      "_________________________________________________________________\n",
      "Layer (type)                 Output Shape              Param #   \n",
      "=================================================================\n",
      "conv2d (Conv2D)              multiple                  9408      \n",
      "_________________________________________________________________\n",
      "batch_normalization (BatchNo multiple                  256       \n",
      "_________________________________________________________________\n",
      "max_pooling2d (MaxPooling2D) multiple                  0         \n",
      "_________________________________________________________________\n",
      "sequential_20 (Sequential)   (16, 7, 7, 2048)          17609728  \n",
      "_________________________________________________________________\n",
      "sequential_21 (Sequential)   (16, 1000)                2049000   \n",
      "=================================================================\n",
      "Total params: 19,668,392\n",
      "Trainable params: 19,626,792\n",
      "Non-trainable params: 41,600\n",
      "_________________________________________________________________\n"
     ]
    }
   ],
   "source": [
    "resnet.summary()"
   ]
  },
  {
   "cell_type": "markdown",
   "id": "0bb93ca4-c4b1-4d70-90e4-c52478c33e5d",
   "metadata": {},
   "source": [
    "\n",
    "|<div style = \"width:200px\">ModelSize</div>|<div style = \"width:200px\">n_filters</div>|<div style = \"width:200px\">n_layers</div>|\n",
    "|:-|:-:|:-:|\n",
    "|ResNet18|[64,64]|[2,2,2,2]|\n",
    "|ResNet34|[64,64]|[2,4,6,3]|\n",
    "|ResNet50|[64,64,256]|[3,4,6,3]|\n",
    "|ResNet101|[64,64,256]|[3,4,23,3]|\n",
    "|ResNet152|[64,64,256]|[3,8,36,3]|"
   ]
  },
  {
   "cell_type": "code",
   "execution_count": null,
   "id": "48658963-8c9c-462f-ae55-b4cab6c0efc9",
   "metadata": {},
   "outputs": [],
   "source": []
  }
 ],
 "metadata": {
  "kernelspec": {
   "display_name": "Python 3",
   "language": "python",
   "name": "python3"
  },
  "language_info": {
   "codemirror_mode": {
    "name": "ipython",
    "version": 3
   },
   "file_extension": ".py",
   "mimetype": "text/x-python",
   "name": "python",
   "nbconvert_exporter": "python",
   "pygments_lexer": "ipython3",
   "version": "3.8.8"
  }
 },
 "nbformat": 4,
 "nbformat_minor": 5
}
