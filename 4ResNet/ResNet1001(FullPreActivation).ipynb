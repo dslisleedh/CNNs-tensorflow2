{
 "cells": [
  {
   "cell_type": "code",
   "execution_count": 1,
   "id": "4e18eeaa-4ac5-4d4a-a8c3-c6f968a75ebe",
   "metadata": {},
   "outputs": [],
   "source": [
    "import tensorflow as tf"
   ]
  },
  {
   "cell_type": "code",
   "execution_count": 2,
   "id": "7d9f97ce-da8e-40ce-ac86-30581c5b1d80",
   "metadata": {},
   "outputs": [],
   "source": [
    "class Conv(tf.keras.layers.Layer):\n",
    "    def __init__(self, n_channels, kernel_size, Downsampling = False):\n",
    "        super(Conv, self).__init__()\n",
    "        self.n_channels = n_channels\n",
    "        self.Downsampling = Downsampling\n",
    "        self.kernel_size = kernel_size\n",
    "        \n",
    "        self.BN = tf.keras.layers.BatchNormalization()\n",
    "        self.Conv1 = tf.keras.layers.Conv2D(filters = n_channels,\n",
    "                                            kernel_size = self.kernel_size,\n",
    "                                            strides = (2, 2) if self.Downsampling else (1, 1),\n",
    "                                            padding = 'valid' if self.Downsampling else 'same',\n",
    "                                            activation = 'linear',\n",
    "                                            use_bias = False\n",
    "                                           )\n",
    "    \n",
    "    def call(self, X):\n",
    "        y = self.BN(X)\n",
    "        y = tf.nn.relu(y)\n",
    "        y = self.Conv1(y)\n",
    "        return(y)\n",
    "        \n",
    "class ResdualUnit(tf.keras.layers.Layer):\n",
    "    def __init__(self, n_channels, increase_channel = False, Downsampling = False):\n",
    "        super(ResdualUnit, self).__init__()\n",
    "        self.n_channels = n_channels\n",
    "        self.increase_channel = increase_channel\n",
    "        self.Downsampling = Downsampling\n",
    "        \n",
    "        self.F = tf.keras.Sequential([\n",
    "            Conv(self.n_channels[0], (1, 1), Downsampling = self.Downsampling),\n",
    "            Conv(self.n_channels[1], (3, 3)),\n",
    "            Conv(self.n_channels[2], (1, 1))\n",
    "        ])\n",
    "        if self.increase_channel:\n",
    "            self.h = tf.keras.layers.Conv2D(filters = self.n_channels[2],\n",
    "                                            kernel_size = (1,1),\n",
    "                                            strides = (2, 2) if self.Downsampling else (1, 1),\n",
    "                                            activation = 'linear'\n",
    "                                           )\n",
    "        else:\n",
    "            self.h = tf.keras.layers.Layer()\n",
    "        \n",
    "    def call(self, X):\n",
    "        y = self.F(X)\n",
    "        X = self.h(X)\n",
    "        return y + X\n",
    "    \n",
    "class Stage(tf.keras.layers.Layer):\n",
    "    def __init__(self, n_channels, n_layers, Downsampling=True):\n",
    "        super(Stage, self).__init__()\n",
    "        self.n_channels = n_channels\n",
    "        self.n_layers = n_layers\n",
    "        self.Downsampling = Downsampling\n",
    "        \n",
    "        self.ResidualUnits = tf.keras.Sequential([\n",
    "            ResdualUnit(self.n_channels, increase_channel = True, Downsampling = self.Downsampling)\n",
    "        ] + [\n",
    "            ResdualUnit(self.n_channels) for _ in range(self.n_layers - 1)\n",
    "        ])\n",
    "    \n",
    "    def call(self, X):\n",
    "        return self.ResidualUnits(X)"
   ]
  },
  {
   "cell_type": "code",
   "execution_count": 3,
   "id": "4bcd16ff-f372-4bcc-9268-4f71ebdc87b6",
   "metadata": {},
   "outputs": [],
   "source": [
    "class ResNet1k(tf.keras.models.Model):\n",
    "    def __init__(self, ):\n",
    "        super(ResNet1k, self).__init__()\n",
    "        \n",
    "        self.Conv = tf.keras.layers.Conv2D(filters = 64,\n",
    "                                            kernel_size = (7,7),\n",
    "                                            strides = (2,2),\n",
    "                                            activation  = 'relu'\n",
    "                                           )\n",
    "        self.MP = tf.keras.layers.MaxPool2D(pool_size = (3,3),\n",
    "                                            strides = (2,2)\n",
    "                                           )\n",
    "        self.Stages = tf.keras.Sequential([\n",
    "            Stage([64, 64, 256], 111, Downsampling = False),\n",
    "            Stage([128, 128, 512], 111),\n",
    "            Stage([256, 256, 1024], 111),\n",
    "            Stage([512, 512, 2048], 111)\n",
    "        ])\n",
    "        \n",
    "        self.Clasifier = tf.keras.Sequential([\n",
    "            tf.keras.layers.GlobalAvgPool2D(),\n",
    "            tf.keras.layers.Dense(1000, activation = 'softmax')\n",
    "        ])\n",
    "        \n",
    "    def call(self, X):\n",
    "        y = self.Conv(X)\n",
    "        y = self.MP(y)\n",
    "        y = self.Stages(y)\n",
    "        y = self.Clasifier(y)\n",
    "        return y"
   ]
  },
  {
   "cell_type": "code",
   "execution_count": 4,
   "id": "5218644c-a589-4ecf-bfe4-3c79194e10d6",
   "metadata": {},
   "outputs": [],
   "source": [
    "resnet1k = ResNet1k()"
   ]
  },
  {
   "cell_type": "code",
   "execution_count": 5,
   "id": "ab66f45f-7a7e-4a1a-a9e7-abbc0b093117",
   "metadata": {},
   "outputs": [],
   "source": [
    "resnet1k.build([None,224,224,3])"
   ]
  },
  {
   "cell_type": "code",
   "execution_count": 6,
   "id": "4799b478-1520-4025-b4d5-e38825b7bb7e",
   "metadata": {},
   "outputs": [
    {
     "name": "stdout",
     "output_type": "stream",
     "text": [
      "Model: \"res_net1k\"\n",
      "_________________________________________________________________\n",
      "Layer (type)                 Output Shape              Param #   \n",
      "=================================================================\n",
      "conv2d (Conv2D)              multiple                  9472      \n",
      "_________________________________________________________________\n",
      "max_pooling2d (MaxPooling2D) multiple                  0         \n",
      "_________________________________________________________________\n",
      "sequential_448 (Sequential)  (None, 7, 7, 2048)        661599744 \n",
      "_________________________________________________________________\n",
      "sequential_449 (Sequential)  (None, 1000)              2049000   \n",
      "=================================================================\n",
      "Total params: 663,658,216\n",
      "Trainable params: 662,383,464\n",
      "Non-trainable params: 1,274,752\n",
      "_________________________________________________________________\n"
     ]
    }
   ],
   "source": [
    "resnet1k.summary()"
   ]
  },
  {
   "cell_type": "code",
   "execution_count": null,
   "id": "4dc55feb-dc37-4033-9dfc-c6d3b52d852c",
   "metadata": {},
   "outputs": [],
   "source": []
  }
 ],
 "metadata": {
  "kernelspec": {
   "display_name": "Python 3",
   "language": "python",
   "name": "python3"
  },
  "language_info": {
   "codemirror_mode": {
    "name": "ipython",
    "version": 3
   },
   "file_extension": ".py",
   "mimetype": "text/x-python",
   "name": "python",
   "nbconvert_exporter": "python",
   "pygments_lexer": "ipython3",
   "version": "3.8.8"
  }
 },
 "nbformat": 4,
 "nbformat_minor": 5
}
