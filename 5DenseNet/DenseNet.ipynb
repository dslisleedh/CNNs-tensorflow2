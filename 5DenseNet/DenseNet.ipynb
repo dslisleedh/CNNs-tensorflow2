{
 "cells": [
  {
   "cell_type": "code",
   "execution_count": 1,
   "id": "22a05a79-acca-44e4-b550-b28924a7f8ba",
   "metadata": {},
   "outputs": [],
   "source": [
    "import tensorflow as tf"
   ]
  },
  {
   "cell_type": "code",
   "execution_count": 161,
   "id": "854a5ec3-6888-4faf-8de4-87a0a4754e64",
   "metadata": {},
   "outputs": [],
   "source": [
    "class BottleneckLayer(tf.keras.layers.Layer):\n",
    "    def __init__(self, n_filters:int):\n",
    "        super(BottleneckLayer, self).__init__()\n",
    "        self.n_filters = n_filters\n",
    "        \n",
    "        self.BN1 = tf.keras.layers.BatchNormalization()\n",
    "        self.Conv1 = tf.keras.layers.Conv2D(filters = self.n_filters * 4,\n",
    "                                            kernel_size = (1,1),\n",
    "                                            padding = 'valid',\n",
    "                                            use_bias = False\n",
    "                                           )\n",
    "        self.BN2 = tf.keras.layers.BatchNormalization()\n",
    "        self.Conv2 = tf.keras.layers.Conv2D(filters = self.n_filters,\n",
    "                                            kernel_size = (3,3),\n",
    "                                            padding = 'same',\n",
    "                                            use_bias = False\n",
    "                                           )\n",
    "    \n",
    "    def call(self, X):\n",
    "        y = self.BN1(X)\n",
    "        y = tf.nn.relu(y)\n",
    "        y = self.Conv1(y)\n",
    "        \n",
    "        y = self.BN2(y)\n",
    "        y = tf.nn.relu(y)\n",
    "        y = self.Conv2(y)\n",
    "        y = tf.concat([X, y], axis = -1)\n",
    "        return y\n",
    "    \n",
    "    \n",
    "class DenseBlock(tf.keras.layers.Layer):\n",
    "    def __init__(self, n_filters:int, n_layers:int):\n",
    "        super(DenseBlock, self).__init__()\n",
    "        self.n_filters = n_filters\n",
    "        self.n_layers = n_layers\n",
    "        \n",
    "        self.Blocks = tf.keras.Sequential([\n",
    "            BottleneckLayer(self.n_filters) for _ in range(self.n_layers)\n",
    "        ])\n",
    "        \n",
    "    def call(self, X):\n",
    "        y = self.Blocks(X)\n",
    "        return y\n",
    "    \n",
    "\n",
    "class TransitionLayer(tf.keras.layers.Layer):\n",
    "    def __init__(self, out_channel:int):\n",
    "        super(TransitionLayer, self).__init__()\n",
    "        self.out_channel = out_channel\n",
    "        \n",
    "        self.BN1 = tf.keras.layers.BatchNormalization()\n",
    "        self.Conv1 = tf.keras.layers.Conv2D(self.out_channel,\n",
    "                                            kernel_size = (1,1),\n",
    "                                            padding = 'valid',\n",
    "                                            use_bias = False\n",
    "                                           )\n",
    "        self.AP = tf.keras.layers.AveragePooling2D(pool_size = (2,2),\n",
    "                                                   strides = (2,2)\n",
    "                                                  )\n",
    "        \n",
    "    def call(self, X):\n",
    "        y = self.BN1(X)\n",
    "        y = tf.nn.relu(y)\n",
    "        y = self.Conv1(y)\n",
    "        y = self.AP(y)\n",
    "        return y"
   ]
  },
  {
   "cell_type": "code",
   "execution_count": 162,
   "id": "bfcb3e2a-a8bc-4194-b9f3-2ad476360bbe",
   "metadata": {},
   "outputs": [],
   "source": [
    "class DenseNet(tf.keras.models.Model):\n",
    "    def __init__(self, n_layers, n_labels:int, k:int = 12 , output_activation:str='softmax'):\n",
    "        super(DenseNet, self).__init__()\n",
    "        self.k = k\n",
    "        self.n_layers = n_layers\n",
    "        self.output_channels = 64\n",
    "        self.n_labels = n_labels\n",
    "        self.output_activation = output_activation\n",
    "        \n",
    "        self.Conv1 = tf.keras.layers.Conv2D(64,\n",
    "                                            kernel_size = (7,7),\n",
    "                                            strides = (2,2),\n",
    "                                            padding = 'same'\n",
    "                                           )\n",
    "        self.MP1 = tf.keras.layers.MaxPool2D(pool_size = (3,3),\n",
    "                                             strides = (2,2),\n",
    "                                             padding = 'same'\n",
    "                                            )\n",
    "        self.Blocks = tf.keras.Sequential()\n",
    "        for i in range(4):\n",
    "            self.output_channels = int((self.output_channels + self.n_layers[i] * (64 + (self.k * i)))/2)\n",
    "            self.Blocks.add(DenseBlock(64 + self.k * i, self.n_layers[i]))\n",
    "            if i != 3:\n",
    "                self.Blocks.add(TransitionLayer(self.output_channels))\n",
    "                \n",
    "                \n",
    "        self.classifier = tf.keras.Sequential([\n",
    "            tf.keras.layers.GlobalAveragePooling2D(),\n",
    "            tf.keras.layers.Dense(self.n_labels, activation = self.output_activation)\n",
    "        ])\n",
    "        \n",
    "    def call(self, X):\n",
    "        y = self.Conv1(X)\n",
    "        y = self.MP1(y)\n",
    "        y = self.Blocks(y)\n",
    "        y = self.classifier(y)\n",
    "        return y"
   ]
  },
  {
   "cell_type": "code",
   "execution_count": 163,
   "id": "1b6768e0-15c7-4821-ba49-e4391305caf6",
   "metadata": {},
   "outputs": [],
   "source": [
    "densenet = DenseNet([6, 12, 24, 16], 1000)"
   ]
  },
  {
   "cell_type": "code",
   "execution_count": 164,
   "id": "8b901856-792f-4e21-8412-2af5b41775e1",
   "metadata": {},
   "outputs": [],
   "source": [
    "densenet.build([16,224,224,3])"
   ]
  },
  {
   "cell_type": "code",
   "execution_count": 165,
   "id": "2ed63f5e-f3ad-4af9-8efd-29c9569041e0",
   "metadata": {},
   "outputs": [
    {
     "name": "stdout",
     "output_type": "stream",
     "text": [
      "Model: \"dense_net_60\"\n",
      "_________________________________________________________________\n",
      "Layer (type)                 Output Shape              Param #   \n",
      "=================================================================\n",
      "conv2d_3666 (Conv2D)         multiple                  9472      \n",
      "_________________________________________________________________\n",
      "max_pooling2d_59 (MaxPooling multiple                  0         \n",
      "_________________________________________________________________\n",
      "sequential_186 (Sequential)  (16, 7, 7, 2940)          49996320  \n",
      "_________________________________________________________________\n",
      "sequential_191 (Sequential)  (16, 1000)                2941000   \n",
      "=================================================================\n",
      "Total params: 52,946,792\n",
      "Trainable params: 52,737,384\n",
      "Non-trainable params: 209,408\n",
      "_________________________________________________________________\n"
     ]
    }
   ],
   "source": [
    "densenet.summary()"
   ]
  }
 ],
 "metadata": {
  "kernelspec": {
   "display_name": "Python 3",
   "language": "python",
   "name": "python3"
  },
  "language_info": {
   "codemirror_mode": {
    "name": "ipython",
    "version": 3
   },
   "file_extension": ".py",
   "mimetype": "text/x-python",
   "name": "python",
   "nbconvert_exporter": "python",
   "pygments_lexer": "ipython3",
   "version": "3.8.8"
  }
 },
 "nbformat": 4,
 "nbformat_minor": 5
}
