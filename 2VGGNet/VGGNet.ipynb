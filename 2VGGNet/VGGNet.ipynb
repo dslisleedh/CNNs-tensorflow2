{
 "cells": [
  {
   "cell_type": "code",
   "execution_count": 1,
   "id": "cf6b1930-ded1-4c08-9430-7d28711fa8b1",
   "metadata": {},
   "outputs": [],
   "source": [
    "import tensorflow as tf"
   ]
  },
  {
   "cell_type": "code",
   "execution_count": 12,
   "id": "fb5127d8-562b-4e2c-a12e-097109f25018",
   "metadata": {},
   "outputs": [],
   "source": [
    "class Convolution_layer(tf.keras.layers.Layer):\n",
    "    def __init__(self, n_conv:int,\n",
    "                 n_filters:int):\n",
    "        super(Convolution_layer, self).__init__()\n",
    "        self.n_conv = n_conv\n",
    "        self.n_filters = n_filters\n",
    "        \n",
    "        self.Conv = [tf.keras.layers.Conv2D(self.n_filters,\n",
    "                                            3, \n",
    "                                            padding = 'same',\n",
    "                                            activation = 'relu')\n",
    "                    for _ in range(self.n_conv)]\n",
    "        self.MP = tf.keras.layers.MaxPool2D(2,\n",
    "                                            2, \n",
    "                                            padding = 'same',)\n",
    "        \n",
    "    def call(self, X):\n",
    "        for conv in self.Conv:\n",
    "            y = conv(X)\n",
    "        y = self.MP(y)\n",
    "        return y"
   ]
  },
  {
   "cell_type": "code",
   "execution_count": 13,
   "id": "aba5a53f-ba39-49f1-848c-aafa0d64af2a",
   "metadata": {},
   "outputs": [],
   "source": [
    "class VGGNet16(tf.keras.models.Model):\n",
    "    def __init__(self,\n",
    "                n_labels:int,\n",
    "                last_activation:str):\n",
    "        super(VGGNet16, self).__init__()\n",
    "        self.n_labels = n_labels\n",
    "        self.last_activation = last_activation\n",
    "        \n",
    "        self.Conv = tf.keras.Sequential([\n",
    "            Convolution_layer(2, 64),\n",
    "            Convolution_layer(2, 128),\n",
    "            Convolution_layer(3, 256),\n",
    "            Convolution_layer(3, 512),\n",
    "            Convolution_layer(3, 512)\n",
    "        ])\n",
    "        self.FC = tf.keras.Sequential([\n",
    "            tf.keras.layers.Flatten(),\n",
    "            tf.keras.layers.Dense(4096, activation = 'relu'),\n",
    "            tf.keras.layers.Dropout(.5),\n",
    "            tf.keras.layers.Dense(4096, activation = 'relu'),\n",
    "            tf.keras.layers.Dropout(.5),\n",
    "            tf.keras.layers.Dense(self.n_labels, activation = self.last_activation)\n",
    "        ])\n",
    "    \n",
    "    def call(self, X):\n",
    "        y = self.Conv(X)\n",
    "        y = self.FC(y)\n",
    "        return y"
   ]
  },
  {
   "cell_type": "code",
   "execution_count": 14,
   "id": "5d1cde34-1f9d-43fb-9479-ce85f11dc9ae",
   "metadata": {},
   "outputs": [],
   "source": [
    "vgg = VGGNet16(10, 'softmax')"
   ]
  },
  {
   "cell_type": "code",
   "execution_count": 15,
   "id": "f2f9271a-f3e9-4f35-859a-8dec0f761222",
   "metadata": {},
   "outputs": [],
   "source": [
    "vgg.build([16,224,224,3])"
   ]
  },
  {
   "cell_type": "code",
   "execution_count": 16,
   "id": "6bd4b107-e77e-419f-af9f-04980e63ff09",
   "metadata": {},
   "outputs": [
    {
     "name": "stdout",
     "output_type": "stream",
     "text": [
      "Model: \"vgg_net16_2\"\n",
      "_________________________________________________________________\n",
      "Layer (type)                 Output Shape              Param #   \n",
      "=================================================================\n",
      "sequential_4 (Sequential)    (16, 7, 7, 512)           11656704  \n",
      "_________________________________________________________________\n",
      "sequential_5 (Sequential)    (16, 10)                  119586826 \n",
      "=================================================================\n",
      "Total params: 131,243,530\n",
      "Trainable params: 131,243,530\n",
      "Non-trainable params: 0\n",
      "_________________________________________________________________\n"
     ]
    }
   ],
   "source": [
    "vgg.summary()"
   ]
  }
 ],
 "metadata": {
  "kernelspec": {
   "display_name": "Python 3",
   "language": "python",
   "name": "python3"
  },
  "language_info": {
   "codemirror_mode": {
    "name": "ipython",
    "version": 3
   },
   "file_extension": ".py",
   "mimetype": "text/x-python",
   "name": "python",
   "nbconvert_exporter": "python",
   "pygments_lexer": "ipython3",
   "version": "3.8.8"
  }
 },
 "nbformat": 4,
 "nbformat_minor": 5
}
